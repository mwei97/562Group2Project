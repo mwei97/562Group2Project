{
 "cells": [
  {
   "cell_type": "code",
   "execution_count": 1,
   "metadata": {},
   "outputs": [
    {
     "name": "stderr",
     "output_type": "stream",
     "text": [
      "/Users/haokun/anaconda3/lib/python3.6/site-packages/sklearn/cross_validation.py:41: DeprecationWarning: This module was deprecated in version 0.18 in favor of the model_selection module into which all the refactored classes and functions are moved. Also note that the interface of the new CV iterators are different from that of this module. This module will be removed in 0.20.\n",
      "  \"This module will be removed in 0.20.\", DeprecationWarning)\n",
      "/Users/haokun/anaconda3/lib/python3.6/site-packages/h5py/__init__.py:34: FutureWarning: Conversion of the second argument of issubdtype from `float` to `np.floating` is deprecated. In future, it will be treated as `np.float64 == np.dtype(float).type`.\n",
      "  from ._conv import register_converters as _register_converters\n",
      "Using TensorFlow backend.\n"
     ]
    }
   ],
   "source": [
    "import pandas as pd\n",
    "import numpy as np\n",
    "import datetime\n",
    "import quandl\n",
    "import matplotlib.pyplot as plt\n",
    "import ast\n",
    "import datetime\n",
    "\n",
    "from sklearn.linear_model import LinearRegression\n",
    "from sklearn import preprocessing, cross_validation, svm\n",
    "from sklearn.metrics import mean_squared_error\n",
    "\n",
    "from sklearn.preprocessing import MinMaxScaler\n",
    "from keras.models import Sequential\n",
    "from keras.layers import Dense, Dropout, LSTM\n",
    "\n",
    "quandl.ApiConfig.api_key = \"i2eKHKvqXVLFxr1aAgDU\""
   ]
  },
  {
   "cell_type": "code",
   "execution_count": 283,
   "metadata": {
    "collapsed": true
   },
   "outputs": [],
   "source": [
    "df = quandl.get(\"EOD/SBUX\", start_date='2018-01-01', end_date='2018-11-30')\n",
    "data = df.sort_index(ascending=True, axis=0)\n",
    "data.reset_index(level=0, inplace=True)"
   ]
  },
  {
   "cell_type": "code",
   "execution_count": 284,
   "metadata": {
    "collapsed": true
   },
   "outputs": [],
   "source": [
    "sentiment = pd.read_csv(\"starbucks.csv\", header=None)\n",
    "sentiment.columns = ['Date', 'Sentiment']\n",
    "table = {}\n",
    "for index, row in sentiment.iterrows():\n",
    "    date = row['Date']\n",
    "    sentiment_score = ast.literal_eval(row['Sentiment'])\n",
    "    table[date] = [int(sentiment_score[0]), float(sentiment_score[1]), float(sentiment_score[2])]"
   ]
  },
  {
   "cell_type": "code",
   "execution_count": 285,
   "metadata": {},
   "outputs": [
    {
     "name": "stdout",
     "output_type": "stream",
     "text": [
      "           Adj_Close Sentiment\n",
      "Date                          \n",
      "2018-11-16     68.16        -8\n",
      "2018-11-19     67.91         4\n",
      "2018-11-20     67.18        14\n",
      "2018-11-21     66.77        -3\n",
      "2018-11-23      65.7      14.5\n",
      "2018-11-26     65.69       1.5\n",
      "2018-11-27     66.08       3.5\n",
      "2018-11-28     66.82         6\n",
      "2018-11-29     66.88       0.5\n",
      "2018-11-30     66.72       0.5\n"
     ]
    }
   ],
   "source": [
    "new_data = pd.DataFrame(index=range(0,len(df)),columns=['Date', 'Adj_Close', 'Sentiment', 'TotalTweets'])\n",
    "# new_data = pd.DataFrame(index=range(0,len(df)),columns=['Date', 'Adj_Close'])\n",
    "# new_data = pd.DataFrame(index=range(0,len(df)),columns=['Date', 'Adj_Close', 'Sentiment'])\n",
    "for i in range(0,len(data)):\n",
    "    new_data['Date'][i] = data['Date'][i]\n",
    "    new_data['Adj_Close'][i] = data['Adj_Close'][i]\n",
    "    \n",
    "#     dateStr = new_data['Date'][i].strftime('%Y-%m-%d')\n",
    "#     if dateStr in table:\n",
    "#         sentiment = table[dateStr]\n",
    "#         new_data['Sentiment'][i] = sentiment[0] * (sentiment[1] - 0.5)\n",
    "#     else:\n",
    "#         new_data['Sentiment'][i] = 0.5\n",
    "    \n",
    "    dateStr = new_data['Date'][i].strftime('%Y-%m-%d')\n",
    "    if dateStr in table:\n",
    "        sentiment = table[dateStr]\n",
    "        new_data['Sentiment'][i] =  sentiment[1]\n",
    "        new_data['TotalTweets'][i] =  sentiment[0]\n",
    "    else:\n",
    "        new_data['Sentiment'][i] = 0.5\n",
    "        new_data['TotalTweets'][i] = 0\n",
    "\n",
    "#setting index\n",
    "new_data.index = new_data.Date\n",
    "new_data.drop('Date', axis=1, inplace=True)\n",
    "print(new_data.tail(10))"
   ]
  },
  {
   "cell_type": "code",
   "execution_count": 286,
   "metadata": {},
   "outputs": [
    {
     "data": {
      "image/png": "[encoded data removed]",
      "text/plain": [
       "<matplotlib.figure.Figure at 0x1a34f6ec88>"
      ]
     },
     "metadata": {},
     "output_type": "display_data"
    }
   ],
   "source": [
    "values = new_data.values\n",
    "groups = [0, 1, 2]\n",
    "i = 1\n",
    "plt.figure()\n",
    "for group in groups:\n",
    "    plt.subplot(len(groups), 1, i)\n",
    "    plt.plot(values[:, group])\n",
    "    plt.title(new_data.columns[group], y=0.5, loc='right')\n",
    "    i += 1\n",
    "plt.suptitle(\"Chipotle Summary\")\n",
    "plt.savefig('Chipotle-summary.png')\n",
    "plt.show()"
   ]
  },
  {
   "cell_type": "code",
   "execution_count": 287,
   "metadata": {},
   "outputs": [
    {
     "name": "stdout",
     "output_type": "stream",
     "text": [
      "     Adj_Close(t-5)  Sentiment(t-5)  Adj_Close(t-4)  Sentiment(t-4)  \\\n",
      "227        0.990545        0.689231        0.978294        0.763077   \n",
      "228        0.978294        0.763077        0.942522        0.824615   \n",
      "229        0.942522        0.824615        0.922431        0.720000   \n",
      "230        0.922431        0.720000        0.869998        0.827692   \n",
      "231        0.869998        0.827692        0.869509        0.747692   \n",
      "\n",
      "     Adj_Close(t-3)  Sentiment(t-3)  Adj_Close(t-2)  Sentiment(t-2)  \\\n",
      "227        0.942522        0.824615        0.922431        0.720000   \n",
      "228        0.922431        0.720000        0.869998        0.827692   \n",
      "229        0.869998        0.827692        0.869509        0.747692   \n",
      "230        0.869509        0.747692        0.888619        0.760000   \n",
      "231        0.888619        0.760000        0.924881        0.775385   \n",
      "\n",
      "     Adj_Close(t-1)  Sentiment(t-1)  Adj_Close(t)  \n",
      "227        0.869998        0.827692      0.869509  \n",
      "228        0.869509        0.747692      0.888619  \n",
      "229        0.888619        0.760000      0.924881  \n",
      "230        0.924881        0.775385      0.927821  \n",
      "231        0.927821        0.741538      0.919981  \n"
     ]
    }
   ],
   "source": [
    "def series_to_supervised(data, n_in=1, n_out=1, dropnan=True):\n",
    "    colNames = list(new_data.columns.values)\n",
    "    \n",
    "    n_vars = 1 if type(data) is list else data.shape[1]\n",
    "    df = pd.DataFrame(data)\n",
    "    cols, names = list(), list()\n",
    "    # input sequence (t-n, ... t-1)\n",
    "    for i in range(n_in, 0, -1):\n",
    "        cols.append(df.shift(i))\n",
    "        names += [('%s(t-%d)' % (colNames[j%3], i)) for j in range(n_vars)]\n",
    "    # forecast sequence (t, t+1, ... t+n)\n",
    "    for i in range(0, n_out):\n",
    "        cols.append(df.shift(-i))\n",
    "        if i == 0:\n",
    "            names += [('%s(t)' % (colNames[j%3])) for j in range(n_vars)]\n",
    "        else:\n",
    "            names += [('var%d(t+%d)' % (j+1, i)) for j in range(n_vars)]\n",
    "    # put it all together\n",
    "    agg = pd.concat(cols, axis=1)\n",
    "    agg.columns = names\n",
    "    # drop rows with NaN values\n",
    "    if dropnan:\n",
    "        agg.dropna(inplace=True)\n",
    "    return agg\n",
    "\n",
    "values = new_data.values\n",
    "values = values.astype('float32')\n",
    "# normalize value\n",
    "scaler = MinMaxScaler(feature_range=(0, 1))\n",
    "scaled = scaler.fit_transform(values)\n",
    "\n",
    "reframed = series_to_supervised(scaled, 5, 1)\n",
    "# drop columns we don't want to predict\n",
    "reframed.drop(reframed.columns[[-1]], axis=1, inplace=True)\n",
    "print(reframed.tail())"
   ]
  },
  {
   "cell_type": "code",
   "execution_count": 290,
   "metadata": {},
   "outputs": [
    {
     "name": "stdout",
     "output_type": "stream",
     "text": [
      "(175, 1, 10) (175,) (52, 1, 10) (52,)\n"
     ]
    }
   ],
   "source": [
    "# split into train and test sets\n",
    "values = reframed.values\n",
    "# offset first 5 rows\n",
    "train = values[:180-5, :]\n",
    "test = values[180-5:, :]\n",
    "\n",
    "# split into input and outputs\n",
    "train_X, train_y = train[:, :-1], train[:, -1]\n",
    "test_X, test_y = test[:, :-1], test[:, -1]\n",
    "# reshape input to be 3D [samples, timesteps, features]\n",
    "train_X = train_X.reshape((train_X.shape[0], 1, train_X.shape[1]))\n",
    "test_X = test_X.reshape((test_X.shape[0], 1, test_X.shape[1]))\n",
    "print(train_X.shape, train_y.shape, test_X.shape, test_y.shape)"
   ]
  },
  {
   "cell_type": "code",
   "execution_count": 291,
   "metadata": {},
   "outputs": [
    {
     "name": "stdout",
     "output_type": "stream",
     "text": [
      "Train on 175 samples, validate on 52 samples\n",
      "Epoch 1/50\n",
      " - 4s - loss: 0.2640 - val_loss: 0.3099\n",
      "Epoch 2/50\n",
      " - 0s - loss: 0.1242 - val_loss: 0.1282\n",
      "Epoch 3/50\n",
      " - 0s - loss: 0.0749 - val_loss: 0.1932\n",
      "Epoch 4/50\n",
      " - 0s - loss: 0.0880 - val_loss: 0.1533\n",
      "Epoch 5/50\n",
      " - 0s - loss: 0.0738 - val_loss: 0.1213\n",
      "Epoch 6/50\n",
      " - 0s - loss: 0.0622 - val_loss: 0.1113\n",
      "Epoch 7/50\n",
      " - 0s - loss: 0.0565 - val_loss: 0.0905\n",
      "Epoch 8/50\n",
      " - 0s - loss: 0.0454 - val_loss: 0.0787\n",
      "Epoch 9/50\n",
      " - 0s - loss: 0.0409 - val_loss: 0.0599\n",
      "Epoch 10/50\n",
      " - 0s - loss: 0.0362 - val_loss: 0.0597\n",
      "Epoch 11/50\n",
      " - 0s - loss: 0.0358 - val_loss: 0.0579\n",
      "Epoch 12/50\n",
      " - 0s - loss: 0.0353 - val_loss: 0.0604\n",
      "Epoch 13/50\n",
      " - 0s - loss: 0.0360 - val_loss: 0.0656\n",
      "Epoch 14/50\n",
      " - 0s - loss: 0.0374 - val_loss: 0.0628\n",
      "Epoch 15/50\n",
      " - 0s - loss: 0.0362 - val_loss: 0.0581\n",
      "Epoch 16/50\n",
      " - 0s - loss: 0.0348 - val_loss: 0.0566\n",
      "Epoch 17/50\n",
      " - 0s - loss: 0.0346 - val_loss: 0.0614\n",
      "Epoch 18/50\n",
      " - 0s - loss: 0.0355 - val_loss: 0.0631\n",
      "Epoch 19/50\n",
      " - 0s - loss: 0.0357 - val_loss: 0.0568\n",
      "Epoch 20/50\n",
      " - 0s - loss: 0.0339 - val_loss: 0.0556\n",
      "Epoch 21/50\n",
      " - 0s - loss: 0.0338 - val_loss: 0.0600\n",
      "Epoch 22/50\n",
      " - 0s - loss: 0.0345 - val_loss: 0.0627\n",
      "Epoch 23/50\n",
      " - 0s - loss: 0.0353 - val_loss: 0.0595\n",
      "Epoch 24/50\n",
      " - 0s - loss: 0.0341 - val_loss: 0.0541\n",
      "Epoch 25/50\n",
      " - 0s - loss: 0.0327 - val_loss: 0.0531\n",
      "Epoch 26/50\n",
      " - 0s - loss: 0.0327 - val_loss: 0.0577\n",
      "Epoch 27/50\n",
      " - 0s - loss: 0.0334 - val_loss: 0.0634\n",
      "Epoch 28/50\n",
      " - 0s - loss: 0.0345 - val_loss: 0.0614\n",
      "Epoch 29/50\n",
      " - 0s - loss: 0.0336 - val_loss: 0.0581\n",
      "Epoch 30/50\n",
      " - 0s - loss: 0.0328 - val_loss: 0.0538\n",
      "Epoch 31/50\n",
      " - 0s - loss: 0.0319 - val_loss: 0.0537\n",
      "Epoch 32/50\n",
      " - 0s - loss: 0.0319 - val_loss: 0.0597\n",
      "Epoch 33/50\n",
      " - 0s - loss: 0.0334 - val_loss: 0.0667\n",
      "Epoch 34/50\n",
      " - 0s - loss: 0.0340 - val_loss: 0.0631\n",
      "Epoch 35/50\n",
      " - 0s - loss: 0.0330 - val_loss: 0.0533\n",
      "Epoch 36/50\n",
      " - 0s - loss: 0.0312 - val_loss: 0.0515\n",
      "Epoch 37/50\n",
      " - 0s - loss: 0.0307 - val_loss: 0.0532\n",
      "Epoch 38/50\n",
      " - 0s - loss: 0.0309 - val_loss: 0.0610\n",
      "Epoch 39/50\n",
      " - 0s - loss: 0.0323 - val_loss: 0.0675\n",
      "Epoch 40/50\n",
      " - 0s - loss: 0.0333 - val_loss: 0.0550\n",
      "Epoch 41/50\n",
      " - 0s - loss: 0.0309 - val_loss: 0.0512\n",
      "Epoch 42/50\n",
      " - 0s - loss: 0.0300 - val_loss: 0.0506\n",
      "Epoch 43/50\n",
      " - 0s - loss: 0.0297 - val_loss: 0.0541\n",
      "Epoch 44/50\n",
      " - 0s - loss: 0.0306 - val_loss: 0.0611\n",
      "Epoch 45/50\n",
      " - 0s - loss: 0.0314 - val_loss: 0.0609\n",
      "Epoch 46/50\n",
      " - 0s - loss: 0.0314 - val_loss: 0.0537\n",
      "Epoch 47/50\n",
      " - 0s - loss: 0.0299 - val_loss: 0.0502\n",
      "Epoch 48/50\n",
      " - 0s - loss: 0.0290 - val_loss: 0.0483\n",
      "Epoch 49/50\n",
      " - 0s - loss: 0.0291 - val_loss: 0.0529\n",
      "Epoch 50/50\n",
      " - 0s - loss: 0.0297 - val_loss: 0.0566\n"
     ]
    },
    {
     "data": {
      "image/png": "[encoded data removed]",
      "text/plain": [
       "<matplotlib.figure.Figure at 0x1a38b83c18>"
      ]
     },
     "metadata": {},
     "output_type": "display_data"
    }
   ],
   "source": [
    "# design network\n",
    "model = Sequential()\n",
    "model.add(LSTM(50, input_shape=(train_X.shape[1], train_X.shape[2])))\n",
    "model.add(Dense(1))\n",
    "# model.add(Dropout(0.1))\n",
    "model.compile(loss='mae', optimizer='adam')\n",
    "\n",
    "# fit network\n",
    "history = model.fit(train_X, train_y, epochs=50, batch_size=10, validation_data=(test_X, test_y), verbose=2, shuffle=False)\n",
    "\n",
    "# plot history\n",
    "plt.plot(history.history['loss'], label='train')\n",
    "plt.plot(history.history['val_loss'], label='test')\n",
    "plt.legend()\n",
    "plt.show()"
   ]
  },
  {
   "cell_type": "code",
   "execution_count": 292,
   "metadata": {
    "collapsed": true
   },
   "outputs": [],
   "source": [
    "# make a prediction\n",
    "yhat = model.predict(test_X)\n",
    "test_X = test_X.reshape((test_X.shape[0], test_X.shape[2]))\n",
    "# invert scaling for forecast\n",
    "inv_yhat = np.concatenate((yhat, test_X[:, 1:]), axis=1)\n",
    "inv_yhat = inv_yhat[:,:3]\n",
    "inv_yhat = scaler.inverse_transform(inv_yhat)\n",
    "inv_yhat = inv_yhat[:,0]\n",
    "# invert scaling for actual\n",
    "test_y = test_y.reshape((len(test_y), 1))\n",
    "inv_y = np.concatenate((test_y, test_X[:, 1:]), axis=1)\n",
    "inv_y = inv_y[:,:3]\n",
    "inv_y = scaler.inverse_transform(inv_y)\n",
    "inv_y = inv_y[:,0]\n",
    "# # calculate RMSE"
   ]
  },
  {
   "cell_type": "code",
   "execution_count": 293,
   "metadata": {},
   "outputs": [
    {
     "name": "stdout",
     "output_type": "stream",
     "text": [
      "Test RMSE: 2.754%\n"
     ]
    }
   ],
   "source": [
    "rmse = np.sqrt(mean_squared_error(inv_y, inv_yhat)) / inv_y.mean()\n",
    "print('Test RMSE: %.3f' % (rmse*100) + '%')"
   ]
  },
  {
   "cell_type": "code",
   "execution_count": 294,
   "metadata": {},
   "outputs": [
    {
     "name": "stdout",
     "output_type": "stream",
     "text": [
      "Test trend prediction accuracy: 56.863%\n"
     ]
    }
   ],
   "source": [
    "# try to see if prediction can guess next price is up or down\n",
    "hit = 0\n",
    "miss = 0\n",
    "for i in range(1, len(inv_y)):\n",
    "    actualSign = inv_y[i] - inv_y[i-1]\n",
    "    predictSign = inv_yhat[i] - inv_yhat[i-1]\n",
    "    if actualSign * predictSign > 0:\n",
    "        hit += 1\n",
    "    else:\n",
    "        miss += 1\n",
    "    \n",
    "print('Test trend prediction accuracy: %.3f' % (hit*100/(hit+miss)) + \"%\")"
   ]
  },
  {
   "cell_type": "code",
   "execution_count": null,
   "metadata": {
    "collapsed": true
   },
   "outputs": [],
   "source": [
    "train = new_data[:180]\n",
    "valid = new_data[180:]\n",
    "valid['Predictions'] = inv_yhat\n",
    "\n",
    "plt.plot(train['Adj_Close'], label = \"Training actual\")\n",
    "plt.plot(valid[['Adj_Close']], label=\"Testing actual\")\n",
    "plt.plot(valid[['Predictions']], label=\"Testing predction\")\n",
    "plt.legend(loc='lower right')\n",
    "plt.xticks(['2018-01-01','2018-11-30'], ['2018-01-01','2018-11-30'])\n",
    "plt.title('Starbucks Stock Price Prediction with Sentiment', fontsize=15)"
   ]
  },
  {
   "cell_type": "code",
   "execution_count": 236,
   "metadata": {},
   "outputs": [
    {
     "data": {
      "image/png": "[encoded data removed]",
      "text/plain": [
       "<matplotlib.figure.Figure at 0x1a3837d438>"
      ]
     },
     "metadata": {},
     "output_type": "display_data"
    }
   ],
   "source": [
    "plt.savefig('Starbucks-with-sentiment.png')\n",
    "plt.show()"
   ]
  },
  {
   "cell_type": "code",
   "execution_count": null,
   "metadata": {
    "collapsed": true
   },
   "outputs": [],
   "source": []
  },
  {
   "cell_type": "code",
   "execution_count": null,
   "metadata": {
    "collapsed": true
   },
   "outputs": [],
   "source": []
  }
 ],
 "metadata": {
  "kernelspec": {
   "display_name": "Python 3",
   "language": "python",
   "name": "python3"
  },
  "language_info": {
   "codemirror_mode": {
    "name": "ipython",
    "version": 3
   },
   "file_extension": ".py",
   "mimetype": "text/x-python",
   "name": "python",
   "nbconvert_exporter": "python",
   "pygments_lexer": "ipython3",
   "version": "3.6.3"
  }
 },
 "nbformat": 4,
 "nbformat_minor": 2
}
